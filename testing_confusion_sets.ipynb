{
 "cells": [
  {
   "cell_type": "code",
   "execution_count": 1,
   "id": "376a030a",
   "metadata": {},
   "outputs": [],
   "source": [
    "import numpy as np\n",
    "import pickle\n",
    "from disco_functions import *\n",
    "from efp_loader import *\n",
    "from matplotlib import pyplot as plt"
   ]
  },
  {
   "cell_type": "code",
   "execution_count": 2,
   "id": "87d50b72",
   "metadata": {},
   "outputs": [],
   "source": [
    "with open(\"/het/p4/ranit/data/mlist_test.txt\", \"rb\") as fp:\n",
    "    m_test = np.asarray(pickle.load(fp))\n",
    "with open(\"/het/p4/ranit/data/mlist_train.txt\", \"rb\") as fp:\n",
    "    m_train = np.asarray(pickle.load(fp))\n",
    "with open(\"/het/p4/ranit/data/mlist_val.txt\", \"rb\") as fp:\n",
    "    m_val = np.asarray(pickle.load(fp))     \n",
    "\n",
    "\n",
    "with open(\"/het/p4/ranit/data/pTlist_train.txt\", \"rb\") as fp:\n",
    "    pt_train = np.asarray(pickle.load(fp))\n",
    "with open(\"/het/p4/ranit/data/pTlist_val.txt\", \"rb\") as fp:\n",
    "    pt_val = np.asarray(pickle.load(fp))\n",
    "with open(\"/het/p4/ranit/data/pTlist_test.txt\", \"rb\") as fp:\n",
    "    pt_test = np.asarray(pickle.load(fp))\n",
    "    \n",
    "    \n",
    "with open(\"/het/p4/ranit/data/y_train.txt\", \"rb\") as fp:\n",
    "    y_train = np.asarray(pickle.load(fp))\n",
    "with open(\"/het/p4/ranit/data/y_val.txt\", \"rb\") as fp:\n",
    "    y_val = np.asarray(pickle.load(fp))\n",
    "with open(\"/het/p4/ranit/data/y_test.txt\", \"rb\") as fp:\n",
    "    y_test = np.asarray(pickle.load(fp))"
   ]
  },
  {
   "cell_type": "code",
   "execution_count": 3,
   "id": "e5a2b2c7",
   "metadata": {},
   "outputs": [
    {
     "name": "stdout",
     "output_type": "stream",
     "text": [
      "(1210999, 6)\n",
      "(402999, 6)\n",
      "(403998, 6)\n"
     ]
    }
   ],
   "source": [
    "efp_train, efp_val,_ = efp_loader([4436, 4491, 3407, 1500, 4303, 2063])"
   ]
  },
  {
   "cell_type": "code",
   "execution_count": 4,
   "id": "e99b1b21",
   "metadata": {},
   "outputs": [],
   "source": [
    "mpt_train_ = np.transpose(np.vstack((m_train,pt_train)))\n",
    "mpt_val_ = np.transpose(np.vstack((m_val,pt_val)))\n",
    "\n",
    "with open('/het/p4/ranit/data/top_wmass.txt','rb') as fp:\n",
    "    wmass = pickle.load(fp)\n",
    "\n",
    "\n",
    "mpt_train = np.hstack((mpt_train_,wmass['train'].reshape(-1,1)))\n",
    "mpt_val = np.hstack((mpt_val_,wmass['val'].reshape(-1,1)))"
   ]
  },
  {
   "cell_type": "code",
   "execution_count": 5,
   "id": "386bf3e0",
   "metadata": {},
   "outputs": [
    {
     "name": "stdout",
     "output_type": "stream",
     "text": [
      "(1613998, 3)\n"
     ]
    }
   ],
   "source": [
    "alldata = stack_data(first=mpt_train, x=mpt_val)"
   ]
  },
  {
   "cell_type": "code",
   "execution_count": 6,
   "id": "c7548d4f",
   "metadata": {},
   "outputs": [
    {
     "name": "stdout",
     "output_type": "stream",
     "text": [
      "(1613998, 1)\n"
     ]
    }
   ],
   "source": [
    "ydisco = stack_data(first=y_train,x=y_val)"
   ]
  },
  {
   "cell_type": "code",
   "execution_count": 19,
   "id": "e97fae21",
   "metadata": {},
   "outputs": [],
   "source": []
  },
  {
   "cell_type": "code",
   "execution_count": 8,
   "id": "ee30af64",
   "metadata": {},
   "outputs": [
    {
     "data": {
      "image/png": "[encoded data removed]",
      "text/plain": [
       "<Figure size 432x288 with 1 Axes>"
      ]
     },
     "metadata": {
      "needs_background": "light"
     },
     "output_type": "display_data"
    }
   ],
   "source": [
    "ypred = np.load('./temp/ypred_batch/ypred_batch_0_c4_efps_32_32.npy')\n",
    "\n",
    "plt.hist(ypred,bins=100)\n",
    "plt.yscale('log')\n",
    "plt.show()"
   ]
  },
  {
   "cell_type": "code",
   "execution_count": 39,
   "id": "928dc6d4",
   "metadata": {},
   "outputs": [],
   "source": [
    "def disco_minibatches(vector1,vector2,minibatch_split):\n",
    "    dis_cor = []\n",
    "    for indices in minibatch_split:\n",
    "        vector_1_mini_batch = vector1[indices]\n",
    "        vector_2_mini_batch = vector2[indices]\n",
    "        dis = dcor.distance_correlation_af_inv(vector_1_mini_batch,vector_2_mini_batch)\n",
    "        dis_cor.append(dis)\n",
    "    return np.array(dis_cor)"
   ]
  },
  {
   "cell_type": "code",
   "execution_count": 40,
   "id": "63c4be19",
   "metadata": {},
   "outputs": [],
   "source": []
  },
  {
   "cell_type": "code",
   "execution_count": 45,
   "id": "4a91e231",
   "metadata": {},
   "outputs": [
    {
     "data": {
      "text/plain": [
       "788"
      ]
     },
     "execution_count": 45,
     "metadata": {},
     "output_type": "execute_result"
    }
   ],
   "source": [
    "len(discos)"
   ]
  },
  {
   "cell_type": "code",
   "execution_count": 44,
   "id": "826222c8",
   "metadata": {},
   "outputs": [
    {
     "data": {
      "image/png": "[encoded data removed]",
      "text/plain": [
       "<Figure size 432x288 with 1 Axes>"
      ]
     },
     "metadata": {
      "needs_background": "light"
     },
     "output_type": "display_data"
    }
   ],
   "source": [
    "plt.hist(discos,bins=30)\n",
    "plt.show()"
   ]
  },
  {
   "cell_type": "code",
   "execution_count": 38,
   "id": "78d531c9",
   "metadata": {},
   "outputs": [
    {
     "data": {
      "text/plain": [
       "0.8260649681810491"
      ]
     },
     "execution_count": 38,
     "metadata": {},
     "output_type": "execute_result"
    }
   ],
   "source": [
    "#disco_mini_batch(ydisco,ypred,minibatches)"
   ]
  },
  {
   "cell_type": "code",
   "execution_count": 48,
   "id": "d0fc3b6c",
   "metadata": {},
   "outputs": [
    {
     "data": {
      "text/plain": [
       "0.5771076247689516"
      ]
     },
     "execution_count": 48,
     "metadata": {},
     "output_type": "execute_result"
    }
   ],
   "source": [
    "np.mean(discos)-1.5*np.std(discos)"
   ]
  },
  {
   "cell_type": "code",
   "execution_count": 9,
   "id": "20302fa0",
   "metadata": {},
   "outputs": [
    {
     "name": "stdout",
     "output_type": "stream",
     "text": [
      "0.040829417201204914\n",
      "0.06262279127685741\n",
      "0.11083277024233078\n",
      "0.1893280947858189\n",
      "0.5928480707018311\n"
     ]
    }
   ],
   "source": [
    "#thresh = 0.1\n",
    "for thresh in [0.1,0.2,0.3,0.4,0.5]:\n",
    "    ydisco_cut = ydisco[(ypred>0.5-thresh)&(ypred<0.5+thresh)]\n",
    "    alldata_cut = alldata[(ypred>0.5-thresh)&(ypred<0.5+thresh)]\n",
    "\n",
    "    minibatches = mini_batch_splitter(ydisco_cut,2048)\n",
    "    disco = disco_mini_batch(ydisco_cut,alldata_cut,minibatches)\n",
    "    print(disco)"
   ]
  },
  {
   "cell_type": "code",
   "execution_count": 12,
   "id": "a08ae9b8",
   "metadata": {},
   "outputs": [
    {
     "name": "stdout",
     "output_type": "stream",
     "text": [
      "0.16456032447568786\n",
      "0.04226003427736366\n",
      "0.03845561392734258\n",
      "0.044888000721751774\n",
      "0.040829417201204914\n",
      "0.038684954778816644\n",
      "0.04035091790744542\n",
      "0.04655655303477642\n",
      "0.07748159963399671\n"
     ]
    }
   ],
   "source": [
    "for thresh in [0,0.1,0.2,0.3,0.4,0.5,0.6,0.7,0.8]:\n",
    "    ydisco_cut = ydisco[(ypred>thresh)&(ypred<thresh+0.2)]\n",
    "    alldata_cut = alldata[(ypred>thresh)&(ypred<thresh+0.2)]\n",
    "\n",
    "    minibatches = mini_batch_splitter(ydisco_cut,2048)\n",
    "    disco = disco_mini_batch(ydisco_cut,alldata_cut,minibatches)\n",
    "    print(disco)"
   ]
  },
  {
   "cell_type": "code",
   "execution_count": 11,
   "id": "344c5ed0",
   "metadata": {},
   "outputs": [
    {
     "name": "stdout",
     "output_type": "stream",
     "text": [
      "0.20401277342696927\n",
      "0.05426005972707013\n",
      "0.04847306713537318\n",
      "0.05390450328909289\n",
      "0.044447238359916444\n",
      "0.04802951797105889\n",
      "0.05639788930277028\n",
      "0.09773655136164654\n"
     ]
    }
   ],
   "source": [
    "for thresh in [0,0.1,0.2,0.3,0.4,0.5,0.6,0.7]:\n",
    "    ydisco_cut = ydisco[(ypred>thresh)&(ypred<thresh+0.3)]\n",
    "    alldata_cut = alldata[(ypred>thresh)&(ypred<thresh+0.3)]\n",
    "\n",
    "    minibatches = mini_batch_splitter(ydisco_cut,2048)\n",
    "    disco = disco_mini_batch(ydisco_cut,alldata_cut,minibatches)\n",
    "    print(disco)"
   ]
  },
  {
   "cell_type": "code",
   "execution_count": 10,
   "id": "b3a7ce31",
   "metadata": {},
   "outputs": [
    {
     "name": "stdout",
     "output_type": "stream",
     "text": [
      "0.24210356428744026\n",
      "0.07641317433632748\n",
      "0.07293300789437226\n",
      "0.06262279127685741\n",
      "0.05752665278684216\n",
      "0.06859046899791434\n",
      "0.1124903564432089\n"
     ]
    }
   ],
   "source": [
    "for thresh in [0,0.1,0.2,0.3,0.4,0.5,0.6]:\n",
    "    ydisco_cut = ydisco[(ypred>thresh)&(ypred<thresh+0.4)]\n",
    "    alldata_cut = alldata[(ypred>thresh)&(ypred<thresh+0.4)]\n",
    "\n",
    "    minibatches = mini_batch_splitter(ydisco_cut,2048)\n",
    "    disco = disco_mini_batch(ydisco_cut,alldata_cut,minibatches)\n",
    "    print(disco)"
   ]
  },
  {
   "cell_type": "code",
   "execution_count": 56,
   "id": "20b9309f",
   "metadata": {},
   "outputs": [
    {
     "data": {
      "text/plain": [
       "array([[0.],\n",
       "       [0.],\n",
       "       [1.],\n",
       "       ...,\n",
       "       [1.],\n",
       "       [1.],\n",
       "       [1.]])"
      ]
     },
     "execution_count": 56,
     "metadata": {},
     "output_type": "execute_result"
    }
   ],
   "source": [
    "thresh=0.2\n",
    "np.count([np.argwhere((ypred>0.5-thresh)&(ypred<0.5+thresh)).flatten()]"
   ]
  },
  {
   "cell_type": "code",
   "execution_count": null,
   "id": "7cf81b35",
   "metadata": {},
   "outputs": [],
   "source": []
  }
 ],
 "metadata": {
  "kernelspec": {
   "display_name": "Python 3",
   "language": "python",
   "name": "python3"
  },
  "language_info": {
   "codemirror_mode": {
    "name": "ipython",
    "version": 3
   },
   "file_extension": ".py",
   "mimetype": "text/x-python",
   "name": "python",
   "nbconvert_exporter": "python",
   "pygments_lexer": "ipython3",
   "version": "3.7.10"
  }
 },
 "nbformat": 4,
 "nbformat_minor": 5
}
