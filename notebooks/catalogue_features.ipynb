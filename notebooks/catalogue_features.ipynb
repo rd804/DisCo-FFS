{
 "cells": [
  {
   "cell_type": "code",
   "execution_count": 1,
   "id": "9276cb5d-db93-4191-b1aa-ec051e2238f9",
   "metadata": {},
   "outputs": [],
   "source": [
    "import numpy as np\n",
    "import os\n",
    "import shutil"
   ]
  },
  {
   "cell_type": "code",
   "execution_count": 28,
   "id": "3a2da22c-786e-4190-9e38-dd5883094c45",
   "metadata": {},
   "outputs": [],
   "source": [
    "features = [4436, 4491, 3407, 1500, 4303, 2063, 733]"
   ]
  },
  {
   "cell_type": "code",
   "execution_count": 20,
   "id": "5967366d-8efa-4fd9-8074-23e189b8ce87",
   "metadata": {},
   "outputs": [],
   "source": [
    "features_7=[733, 1087]"
   ]
  },
  {
   "cell_type": "code",
   "execution_count": 21,
   "id": "6acedb2a-77c2-447a-b9fe-4c7fb329c6fc",
   "metadata": {},
   "outputs": [],
   "source": [
    "features_8=[4362, 6866]"
   ]
  },
  {
   "cell_type": "code",
   "execution_count": 9,
   "id": "77e51fa7-057f-473f-ac43-93e86c0f27dc",
   "metadata": {},
   "outputs": [],
   "source": [
    "trial_3 = [1550, 6476]"
   ]
  },
  {
   "cell_type": "code",
   "execution_count": 10,
   "id": "4d70cee6-55b5-4924-b251-5a56f05b5656",
   "metadata": {},
   "outputs": [],
   "source": [
    "trial_2 = [2197]"
   ]
  },
  {
   "cell_type": "code",
   "execution_count": 2,
   "id": "46c55484-116f-477e-9824-8f38dccbc3a2",
   "metadata": {},
   "outputs": [],
   "source": [
    "chromatic = np.load('./efp_catalogue/chromatic.npy')"
   ]
  },
  {
   "cell_type": "code",
   "execution_count": 4,
   "id": "19fc4bb6-2242-4096-8495-cfc0a314bb65",
   "metadata": {},
   "outputs": [],
   "source": [
    "beta = np.load('./efp_catalogue/beta.npy')\n",
    "kappa = np.load('./efp_catalogue/kappa.npy')"
   ]
  },
  {
   "cell_type": "code",
   "execution_count": 5,
   "id": "3ba404e6-7187-4090-8d40-dcc7281c7962",
   "metadata": {},
   "outputs": [],
   "source": [
    "mkdir feature_graphs/qg"
   ]
  },
  {
   "cell_type": "code",
   "execution_count": 15,
   "id": "b768ec98-ced8-4c39-aa89-d70cf0bd9680",
   "metadata": {},
   "outputs": [
    {
     "data": {
      "text/plain": [
       "'./feature_graphs/efp_4436.jpg'"
      ]
     },
     "execution_count": 15,
     "metadata": {},
     "output_type": "execute_result"
    }
   ],
   "source": [
    "shutil.copyfile('./efp_catalogue/graphs/efp_4436.jpg', './feature_graphs/efp_4436.jpg')\n",
    "   "
   ]
  },
  {
   "cell_type": "code",
   "execution_count": 29,
   "id": "916c35cc-05ff-49b8-9c85-d6916c5b8c01",
   "metadata": {},
   "outputs": [],
   "source": [
    "for i,j in enumerate(features):\n",
    "    #print(j)\n",
    "    shutil.copyfile('./efp_catalogue/graphs_highres/efp_'+str(j)+'.jpg', './feature_graphs/efp_'+str(i+1)+'.jpg')\n"
   ]
  },
  {
   "cell_type": "code",
   "execution_count": 19,
   "id": "5419e1d6-3cbd-435c-aaea-9df4ba380c26",
   "metadata": {},
   "outputs": [
    {
     "name": "stdout",
     "output_type": "stream",
     "text": [
      "efp_1.jpg     efp_3.jpg     efp_4436.jpg  efp_6.jpg\n",
      "efp_2.jpg     efp_4.jpg     efp_5.jpg     efp_7.jpg\n"
     ]
    }
   ],
   "source": [
    "ls feature_graphs"
   ]
  },
  {
   "cell_type": "code",
   "execution_count": 23,
   "id": "e82733e9-ddb2-484c-902c-205d6956f1f1",
   "metadata": {},
   "outputs": [],
   "source": [
    "features_wjets = [4498, 2945, 5367, 5887, 4790, 5743, 4714]"
   ]
  },
  {
   "cell_type": "code",
   "execution_count": 24,
   "id": "604493b8-e975-45f3-b104-c46824303e33",
   "metadata": {},
   "outputs": [],
   "source": [
    "for i,j in enumerate(features_wjets):\n",
    "    #print(j)\n",
    "    shutil.copyfile('./efp_catalogue/graphs/efp_'+str(j)+'.jpg', './feature_graphs/wjets/efp_'+str(i+1)+'.jpg')\n",
    "\n"
   ]
  },
  {
   "cell_type": "code",
   "execution_count": 13,
   "id": "ab1146a8-9031-4e1a-b573-2f6bbd93c4ed",
   "metadata": {},
   "outputs": [
    {
     "name": "stdout",
     "output_type": "stream",
     "text": [
      "[2 4] [0.5 0.5] [0.  0.5]\n"
     ]
    }
   ],
   "source": [
    "print(chromatic[features_7],beta[features_7],kappa[features_7])"
   ]
  },
  {
   "cell_type": "code",
   "execution_count": 14,
   "id": "521e943b-785d-466f-99fb-12d6dcb6900a",
   "metadata": {},
   "outputs": [
    {
     "name": "stdout",
     "output_type": "stream",
     "text": [
      "[3 2] [1. 2.] [1. 2.]\n"
     ]
    }
   ],
   "source": [
    "print(chromatic[features_8],beta[features_8],kappa[features_8])"
   ]
  },
  {
   "cell_type": "code",
   "execution_count": 16,
   "id": "1b148215-f58b-4af8-b280-398d84142365",
   "metadata": {},
   "outputs": [
    {
     "name": "stdout",
     "output_type": "stream",
     "text": [
      "[4] [0.5] [2.]\n"
     ]
    }
   ],
   "source": [
    "print(chromatic[trial_2],kappa[trial_2],beta[trial_2])"
   ]
  },
  {
   "cell_type": "code",
   "execution_count": 17,
   "id": "aceb685b-cc16-4673-a3d4-f2a8111417ac",
   "metadata": {},
   "outputs": [
    {
     "name": "stdout",
     "output_type": "stream",
     "text": [
      "[3 4] [1. 1.] [0.5 2. ]\n"
     ]
    }
   ],
   "source": [
    "print(chromatic[trial_3],kappa[trial_3],beta[trial_3])"
   ]
  },
  {
   "cell_type": "code",
   "execution_count": 30,
   "id": "e7802872-6a29-4bfe-bd61-899710cfb1b2",
   "metadata": {},
   "outputs": [],
   "source": [
    "for i,j in enumerate(features_7):\n",
    "    #print(j)\n",
    "    shutil.copyfile('./efp_catalogue/graphs_highres/efp_'+str(j)+'.jpg', './feature_graphs/efp_7_'+str(i+1)+'.jpg')\n",
    "\n"
   ]
  },
  {
   "cell_type": "code",
   "execution_count": 31,
   "id": "6eabd4e7-b979-487e-b922-99421b79120b",
   "metadata": {},
   "outputs": [],
   "source": [
    "for i,j in enumerate(features_8):\n",
    "    #print(j)\n",
    "    shutil.copyfile('./efp_catalogue/graphs_highres/efp_'+str(j)+'.jpg', './feature_graphs/efp_8_'+str(i+1)+'.jpg')\n",
    "\n"
   ]
  },
  {
   "cell_type": "code",
   "execution_count": 13,
   "id": "ac97c7b9-d760-4019-983f-934c16bf8c1d",
   "metadata": {},
   "outputs": [],
   "source": [
    "for i,j in enumerate(trial_2):\n",
    "    #print(j)\n",
    "    shutil.copyfile('./efp_catalogue/graphs/efp_'+str(j)+'.jpg', './feature_graphs/efp_7_trial_2_'+str(i+1)+'.jpg')\n"
   ]
  },
  {
   "cell_type": "code",
   "execution_count": 14,
   "id": "39f303a6-4b26-4f62-b7ca-36943a0c09aa",
   "metadata": {},
   "outputs": [],
   "source": [
    "for i,j in enumerate(trial_3):\n",
    "    #print(j)\n",
    "    shutil.copyfile('./efp_catalogue/graphs/efp_'+str(j)+'.jpg', './feature_graphs/efp_7_trial_3_'+str(i+1)+'.jpg')\n",
    "\n"
   ]
  },
  {
   "cell_type": "code",
   "execution_count": null,
   "id": "3379254f-2d7d-4373-bc5f-bf2be0012ea8",
   "metadata": {},
   "outputs": [],
   "source": [
    "features_qg = [1239, 1233, 1231, 1091, 1325, 1324, 2201, 2351, 2266, 2343, 1303]\n",
    "\n",
    "for i,j in enumerate(features_qg):\n",
    "    #print(j)\n",
    "    shutil.copyfile('./efp_catalogue/graphs/efp_'+str(j)+'.jpg', './feature_graphs/qg/efp_'+str(i+1)+'.jpg')\n",
    "\n"
   ]
  }
 ],
 "metadata": {
  "kernelspec": {
   "display_name": "Python 3 (ipykernel)",
   "language": "python",
   "name": "python3"
  },
  "language_info": {
   "codemirror_mode": {
    "name": "ipython",
    "version": 3
   },
   "file_extension": ".py",
   "mimetype": "text/x-python",
   "name": "python",
   "nbconvert_exporter": "python",
   "pygments_lexer": "ipython3",
   "version": "3.9.6"
  }
 },
 "nbformat": 4,
 "nbformat_minor": 5
}
